{
  "cells": [
    {
      "cell_type": "code",
      "metadata": {
        "tags": [],
        "cell_id": "00000-b52b40b0-6e80-48e4-ace8-427ca35b6598",
        "deepnote_to_be_reexecuted": false,
        "source_hash": "a150727d",
        "execution_millis": 2,
        "execution_start": 1618831005928,
        "deepnote_cell_type": "code"
      },
      "source": "from tqdm import tqdm\nimport json\nimport matplotlib.pyplot as plt\nimport more_itertools as mit\n\nfrom game import *\nfrom player import Player, RandomPlayer, MaxPlayer, MinPlayer, NNPlayer, BonusCravingPlayer, MalusAdverse, GetRidOfBadCards, Robot",
      "execution_count": null,
      "outputs": []
    },
    {
      "cell_type": "code",
      "metadata": {
        "tags": [],
        "cell_id": "00001-4691b05e-c00c-4fa7-81fa-912f7e7084c1",
        "deepnote_to_be_reexecuted": false,
        "source_hash": "d19be245",
        "execution_millis": 2,
        "execution_start": 1618767743374,
        "deepnote_cell_type": "code"
      },
      "source": "n_player = 3\nn_cards = 2",
      "execution_count": null,
      "outputs": []
    },
    {
      "cell_type": "markdown",
      "source": "## Training on BonusCraving before evaluating on BonusCraving and then Random",
      "metadata": {
        "tags": [],
        "cell_id": "00002-9b16d67e-0fc8-4d47-8424-4ebe82d30067",
        "deepnote_cell_type": "markdown"
      }
    },
    {
      "cell_type": "code",
      "metadata": {
        "tags": [],
        "cell_id": "00002-dc3e5e5c-56e4-4183-96c9-9a0bb5f76d6b",
        "deepnote_to_be_reexecuted": false,
        "source_hash": "8ff1aedd",
        "execution_millis": 3,
        "execution_start": 1618767743379,
        "deepnote_cell_type": "code"
      },
      "source": "from player import MCPlayer, SARSAPlayer",
      "execution_count": null,
      "outputs": []
    },
    {
      "cell_type": "code",
      "metadata": {
        "tags": [],
        "cell_id": "00003-f8dab49f-d960-42d2-a77d-58187ef1122e",
        "deepnote_to_be_reexecuted": false,
        "source_hash": "2babe9b7",
        "execution_millis": 2035,
        "execution_start": 1618767743387,
        "deepnote_cell_type": "code"
      },
      "source": "n_game = 5000\ngame = Game(n_player, n_cards, n_game=1, random=True, verbose=False)\nmcp = MCPlayer(name=\"GuineaPig\",n_cards=n_cards)\ngame.player_list_[0] = mcp\ngame.player_list_[1] = BonusCravingPlayer(\"R1\",n_cards)\ngame.player_list_[2] = BonusCravingPlayer(\"R2\",n_cards)\nfor _ in tqdm(range(n_game)):\n    player_list, game_summary, winner_list = game.play()",
      "execution_count": null,
      "outputs": [
        {
          "name": "stderr",
          "text": "100%|██████████| 5000/5000 [00:02<00:00, 2468.50it/s]\n",
          "output_type": "stream"
        }
      ]
    },
    {
      "cell_type": "code",
      "metadata": {
        "tags": [],
        "cell_id": "00004-ff43b1c9-ea33-42c7-9c26-a81b43256090",
        "deepnote_to_be_reexecuted": false,
        "source_hash": "f20d8f91",
        "execution_millis": 127,
        "execution_start": 1618767745439,
        "deepnote_cell_type": "code"
      },
      "source": "mcp = game.player_list_[0]\nplt.plot(np.cumsum(mcp.game_result))",
      "execution_count": null,
      "outputs": [
        {
          "output_type": "execute_result",
          "execution_count": 5,
          "data": {
            "text/plain": "[<matplotlib.lines.Line2D at 0x7f2c885ab4d0>]"
          },
          "metadata": {}
        },
        {
          "data": {
            "text/plain": "<Figure size 432x288 with 1 Axes>",
            "image/png": "[encoded data removed]"
          },
          "metadata": {
            "needs_background": "light"
          },
          "output_type": "display_data"
        }
      ]
    },
    {
      "cell_type": "code",
      "metadata": {
        "tags": [],
        "cell_id": "00004-73037ec9-72eb-4fd8-ae38-b366dabc113a",
        "deepnote_to_be_reexecuted": false,
        "source_hash": "38cb5c3d",
        "execution_millis": 63,
        "execution_start": 1618767745562,
        "deepnote_cell_type": "code"
      },
      "source": "mcp.eval()",
      "execution_count": null,
      "outputs": []
    },
    {
      "cell_type": "code",
      "metadata": {
        "tags": [],
        "cell_id": "00005-3f8722d2-9eea-48ff-81a0-f5dd4cb982e6",
        "deepnote_to_be_reexecuted": false,
        "source_hash": "b0139a20",
        "execution_millis": 539,
        "execution_start": 1618767745626,
        "deepnote_cell_type": "code"
      },
      "source": "for _ in tqdm(range(n_game)):\n    player_list, game_summary, winner_list = game.play()",
      "execution_count": null,
      "outputs": [
        {
          "name": "stderr",
          "text": "100%|██████████| 5000/5000 [00:00<00:00, 8425.78it/s]\n",
          "output_type": "stream"
        }
      ]
    },
    {
      "cell_type": "code",
      "metadata": {
        "tags": [],
        "cell_id": "00007-43580c78-9fc9-4f7d-909f-55acfb0757e6",
        "deepnote_to_be_reexecuted": false,
        "source_hash": "f20d8f91",
        "execution_millis": 107,
        "execution_start": 1618767746170,
        "deepnote_cell_type": "code"
      },
      "source": "mcp = game.player_list_[0]\nplt.plot(np.cumsum(mcp.game_result))",
      "execution_count": null,
      "outputs": [
        {
          "output_type": "execute_result",
          "execution_count": 8,
          "data": {
            "text/plain": "[<matplotlib.lines.Line2D at 0x7f2c883fe810>]"
          },
          "metadata": {}
        },
        {
          "data": {
            "text/plain": "<Figure size 432x288 with 1 Axes>",
            "image/png": "[encoded data removed]"
          },
          "metadata": {
            "needs_background": "light"
          },
          "output_type": "display_data"
        }
      ]
    },
    {
      "cell_type": "code",
      "metadata": {
        "tags": [],
        "cell_id": "00008-096d62d1-0ab0-4a10-b6b0-df1250bc8d5d",
        "deepnote_to_be_reexecuted": false,
        "source_hash": "593c776a",
        "execution_millis": 593,
        "execution_start": 1618767746281,
        "deepnote_cell_type": "code"
      },
      "source": "game.player_list_[1] = RandomPlayer(\"R1\",n_cards)\ngame.player_list_[2] = RandomPlayer(\"R2\",n_cards)\nfor _ in tqdm(range(n_game)):\n    player_list, game_summary, winner_list = game.play()",
      "execution_count": null,
      "outputs": [
        {
          "name": "stderr",
          "text": "100%|██████████| 5000/5000 [00:00<00:00, 8482.92it/s]\n",
          "output_type": "stream"
        }
      ]
    },
    {
      "cell_type": "code",
      "metadata": {
        "tags": [],
        "cell_id": "00009-e231f28a-5c94-41d5-8026-36d919c87ce7",
        "deepnote_to_be_reexecuted": false,
        "source_hash": "f20d8f91",
        "execution_millis": 115,
        "execution_start": 1618767746881,
        "deepnote_cell_type": "code"
      },
      "source": "mcp = game.player_list_[0]\nplt.plot(np.cumsum(mcp.game_result))",
      "execution_count": null,
      "outputs": [
        {
          "output_type": "execute_result",
          "execution_count": 10,
          "data": {
            "text/plain": "[<matplotlib.lines.Line2D at 0x7f2c883a2c10>]"
          },
          "metadata": {}
        },
        {
          "data": {
            "text/plain": "<Figure size 432x288 with 1 Axes>",
            "image/png": "[encoded data removed]"
          },
          "metadata": {
            "needs_background": "light"
          },
          "output_type": "display_data"
        }
      ]
    },
    {
      "cell_type": "markdown",
      "source": "## Training on Random before evaluating on Random and then BonusCraving",
      "metadata": {
        "tags": [],
        "cell_id": "00011-eb390a40-5bf1-4180-be90-5fce455694ec",
        "deepnote_cell_type": "markdown"
      }
    },
    {
      "cell_type": "code",
      "metadata": {
        "tags": [],
        "cell_id": "00011-12dd7f37-5ad9-465f-b670-9f1c2e9fa114",
        "deepnote_to_be_reexecuted": false,
        "source_hash": "27bdf8f1",
        "execution_millis": 2097,
        "execution_start": 1618767746998,
        "deepnote_cell_type": "code"
      },
      "source": "n_game = 5000\ngame = Game(n_player, n_cards, n_game=1, random=True, verbose=False)\nmcp = MCPlayer(name=\"GuineaPig\",n_cards=n_cards)\ngame.player_list_[0] = mcp\ngame.player_list_[1] = RandomPlayer(\"R1\",n_cards)\ngame.player_list_[2] = RandomPlayer(\"R2\",n_cards)\nfor _ in tqdm(range(n_game)):\n    player_list, game_summary, winner_list = game.play()",
      "execution_count": null,
      "outputs": [
        {
          "name": "stderr",
          "text": "100%|██████████| 5000/5000 [00:02<00:00, 2432.42it/s]\n",
          "output_type": "stream"
        }
      ]
    },
    {
      "cell_type": "code",
      "metadata": {
        "tags": [],
        "cell_id": "00011-419cac6d-7874-40c8-886e-f8b0342018c7",
        "deepnote_to_be_reexecuted": false,
        "source_hash": "f20d8f91",
        "execution_millis": 71,
        "execution_start": 1618767749094,
        "deepnote_cell_type": "code"
      },
      "source": "mcp = game.player_list_[0]\nplt.plot(np.cumsum(mcp.game_result))",
      "execution_count": null,
      "outputs": [
        {
          "output_type": "execute_result",
          "execution_count": 12,
          "data": {
            "text/plain": "[<matplotlib.lines.Line2D at 0x7f2c883cfed0>]"
          },
          "metadata": {}
        },
        {
          "data": {
            "text/plain": "<Figure size 432x288 with 1 Axes>",
            "image/png": "[encoded data removed]"
          },
          "metadata": {
            "needs_background": "light"
          },
          "output_type": "display_data"
        }
      ]
    },
    {
      "cell_type": "code",
      "metadata": {
        "tags": [],
        "cell_id": "00010-ecf030d2-ac90-4875-b835-af1073ae8103",
        "deepnote_to_be_reexecuted": false,
        "source_hash": "8e66fc8b",
        "execution_millis": 548,
        "execution_start": 1618767749209,
        "deepnote_cell_type": "code"
      },
      "source": "mcp.eval()\nfor _ in tqdm(range(n_game)):\n    player_list, game_summary, winner_list = game.play()",
      "execution_count": null,
      "outputs": [
        {
          "name": "stderr",
          "text": "100%|██████████| 5000/5000 [00:00<00:00, 8554.59it/s]\n",
          "output_type": "stream"
        }
      ]
    },
    {
      "cell_type": "code",
      "metadata": {
        "tags": [],
        "cell_id": "00015-56a1018b-f3fe-4372-9915-5aba5cb20778",
        "deepnote_to_be_reexecuted": false,
        "source_hash": "d8a13db8",
        "execution_millis": 606,
        "execution_start": 1618767749759,
        "deepnote_cell_type": "code"
      },
      "source": "game.player_list_[1] = BonusCravingPlayer(\"R1\",n_cards)\ngame.player_list_[2] = BonusCravingPlayer(\"R2\",n_cards)\nfor _ in tqdm(range(n_game)):\n    player_list, game_summary, winner_list = game.play()",
      "execution_count": null,
      "outputs": [
        {
          "name": "stderr",
          "text": "100%|██████████| 5000/5000 [00:00<00:00, 8367.91it/s]\n",
          "output_type": "stream"
        }
      ]
    },
    {
      "cell_type": "code",
      "metadata": {
        "tags": [],
        "cell_id": "00016-b9a86b1b-14ba-41ad-87df-6b1bf1688e50",
        "deepnote_to_be_reexecuted": false,
        "source_hash": "f20d8f91",
        "execution_millis": 70,
        "execution_start": 1618767750406,
        "deepnote_cell_type": "code"
      },
      "source": "mcp = game.player_list_[0]\nplt.plot(np.cumsum(mcp.game_result))",
      "execution_count": null,
      "outputs": [
        {
          "output_type": "execute_result",
          "execution_count": 15,
          "data": {
            "text/plain": "[<matplotlib.lines.Line2D at 0x7f2c88258590>]"
          },
          "metadata": {}
        },
        {
          "data": {
            "text/plain": "<Figure size 432x288 with 1 Axes>",
            "image/png": "[encoded data removed]"
          },
          "metadata": {
            "needs_background": "light"
          },
          "output_type": "display_data"
        }
      ]
    },
    {
      "cell_type": "markdown",
      "source": "## SARSA vs MC",
      "metadata": {
        "tags": [],
        "cell_id": "00017-ea4f8724-1b36-47ee-8e37-fd83414a65c1",
        "deepnote_cell_type": "markdown"
      }
    },
    {
      "cell_type": "code",
      "metadata": {
        "tags": [],
        "cell_id": "00017-e3e988a3-4a9b-4a0c-8bdb-937b86f5592b",
        "deepnote_to_be_reexecuted": false,
        "source_hash": "b2e536d9",
        "execution_millis": 2710,
        "execution_start": 1618767750525,
        "deepnote_cell_type": "code"
      },
      "source": "n_game = 5000\nn_player = 2\nmcp = MCPlayer(\"MC\", n_cards=n_cards)\nsarsap = SARSAPlayer(\"SARSA\", n_cards=n_cards)\ngame = Game(n_player, n_cards, n_game=1, random=True, verbose=False)\ngame.player_list_[0] = mcp\ngame.player_list_[1] = sarsap\nfor _ in tqdm(range(n_game)):\n    player_list, game_summary, winner_list = game.play()",
      "execution_count": null,
      "outputs": [
        {
          "name": "stderr",
          "text": "100%|██████████| 5000/5000 [00:02<00:00, 1817.22it/s]\n",
          "output_type": "stream"
        }
      ]
    },
    {
      "cell_type": "code",
      "metadata": {
        "tags": [],
        "cell_id": "00019-e164113d-2853-46e9-8484-70a5b9f718ce",
        "deepnote_to_be_reexecuted": false,
        "source_hash": "fc8d47c2",
        "execution_millis": 7,
        "execution_start": 1618767753237,
        "deepnote_cell_type": "code"
      },
      "source": "game.n_player_",
      "execution_count": null,
      "outputs": [
        {
          "output_type": "execute_result",
          "execution_count": 17,
          "data": {
            "text/plain": "2"
          },
          "metadata": {}
        }
      ]
    },
    {
      "cell_type": "code",
      "metadata": {
        "tags": [],
        "cell_id": "00019-aa786d66-d47d-45cd-a5f7-fffe0ab0aaa4",
        "deepnote_to_be_reexecuted": false,
        "source_hash": "a4c2e35f",
        "execution_millis": 99,
        "execution_start": 1618767753256,
        "deepnote_cell_type": "code"
      },
      "source": "plt.plot(np.cumsum(mcp.game_result))",
      "execution_count": null,
      "outputs": [
        {
          "output_type": "execute_result",
          "execution_count": 18,
          "data": {
            "text/plain": "[<matplotlib.lines.Line2D at 0x7f2c882e7290>]"
          },
          "metadata": {}
        },
        {
          "data": {
            "text/plain": "<Figure size 432x288 with 1 Axes>",
            "image/png": "[encoded data removed]"
          },
          "metadata": {
            "needs_background": "light"
          },
          "output_type": "display_data"
        }
      ]
    },
    {
      "cell_type": "code",
      "metadata": {
        "tags": [],
        "cell_id": "00020-c55f91a7-dc60-4050-92ac-8455531b515c",
        "deepnote_to_be_reexecuted": false,
        "source_hash": "dfa06be9",
        "execution_millis": 108,
        "execution_start": 1618767753363,
        "deepnote_cell_type": "code"
      },
      "source": "plt.plot(np.cumsum(sarsap.game_result))",
      "execution_count": null,
      "outputs": [
        {
          "output_type": "execute_result",
          "execution_count": 19,
          "data": {
            "text/plain": "[<matplotlib.lines.Line2D at 0x7f2c8810c290>]"
          },
          "metadata": {}
        },
        {
          "data": {
            "text/plain": "<Figure size 432x288 with 1 Axes>",
            "image/png": "[encoded data removed]"
          },
          "metadata": {
            "needs_background": "light"
          },
          "output_type": "display_data"
        }
      ]
    },
    {
      "cell_type": "markdown",
      "source": "## Interpretation of policy with shap values",
      "metadata": {
        "tags": [],
        "cell_id": "00017-c895f9fb-12ab-4bda-bae5-9a1aa2e538f3",
        "deepnote_cell_type": "markdown"
      }
    },
    {
      "cell_type": "code",
      "metadata": {
        "tags": [],
        "cell_id": "00017-bdfe177e-2ecf-4662-b3f7-9dde5d43d19b",
        "deepnote_to_be_reexecuted": false,
        "source_hash": "17c513e1",
        "execution_millis": 2807,
        "execution_start": 1618764224125,
        "deepnote_cell_type": "code"
      },
      "source": "import shap",
      "execution_count": null,
      "outputs": []
    },
    {
      "cell_type": "code",
      "metadata": {
        "tags": [],
        "cell_id": "00019-8c3b2c86-aa30-4b2c-901d-b5496777c363",
        "deepnote_to_be_reexecuted": false,
        "source_hash": "c8666249",
        "execution_millis": 1,
        "execution_start": 1618764226932,
        "deepnote_cell_type": "code"
      },
      "source": "policy = mcp.policy\nQ = mcp.Q",
      "execution_count": null,
      "outputs": []
    },
    {
      "cell_type": "code",
      "metadata": {
        "tags": [],
        "cell_id": "00020-616e8263-9b55-43a3-94cf-67fde77c57b6",
        "deepnote_to_be_reexecuted": false,
        "source_hash": "67c03592",
        "execution_millis": 0,
        "execution_start": 1618764226933,
        "deepnote_cell_type": "code"
      },
      "source": "def transform_state_to_vector(state):\n    card, hand = state\n    vector = np.zeros(3*n_cards + 1)\n    vector[0] = card\n    vector[list(hand)] = 1\n    return vector\n\ndef transform_vector_to_state(vector):\n    card = vector[0]\n    hand = np.where(vector != 0)[0][1:]\n    return (int(card), tuple(hand))",
      "execution_count": null,
      "outputs": []
    },
    {
      "cell_type": "code",
      "metadata": {
        "tags": [],
        "cell_id": "00021-cfdacab7-67c5-4150-85c7-ecbd0508af2f",
        "deepnote_to_be_reexecuted": false,
        "source_hash": "a783b6fa",
        "execution_millis": 25,
        "execution_start": 1618764226933,
        "deepnote_cell_type": "code"
      },
      "source": "state = list(policy.keys())[100]\nprint(state)\nvector = transform_state_to_vector(state)\nprint(vector)\nstate_rec = transform_vector_to_state(vector)\nprint(state_rec)\nprint(state_rec == state)",
      "execution_count": null,
      "outputs": [
        {
          "name": "stdout",
          "text": "(-1, (2, 3, 6))\n[-1.  0.  1.  1.  0.  0.  1.]\n(-1, (2, 3, 6))\nTrue\n",
          "output_type": "stream"
        }
      ]
    },
    {
      "cell_type": "code",
      "metadata": {
        "tags": [],
        "cell_id": "00022-0d046a9e-5d78-4185-be57-95bd3caf78de",
        "deepnote_to_be_reexecuted": false,
        "source_hash": "ba67f77e",
        "execution_millis": 9,
        "execution_start": 1618764226950,
        "deepnote_cell_type": "code"
      },
      "source": "vector.ndim",
      "execution_count": null,
      "outputs": [
        {
          "output_type": "execute_result",
          "execution_count": 20,
          "data": {
            "text/plain": "1"
          },
          "metadata": {}
        }
      ]
    },
    {
      "cell_type": "code",
      "metadata": {
        "tags": [],
        "cell_id": "00022-42b41b5f-e8b0-4d2a-9e69-d5c95d7e00e2",
        "deepnote_to_be_reexecuted": false,
        "source_hash": "516220cf",
        "execution_millis": 0,
        "execution_start": 1618764226951,
        "deepnote_cell_type": "code"
      },
      "source": "X = np.stack(list(map(transform_state_to_vector, policy.keys())))\n# print(X)\ny = np.stack(list(policy.values())).reshape(-1,1)\n# print(y)",
      "execution_count": null,
      "outputs": []
    },
    {
      "cell_type": "code",
      "metadata": {
        "tags": [],
        "cell_id": "00024-2d01f1ac-05d1-4c2f-9f24-78bf429ce013",
        "deepnote_to_be_reexecuted": false,
        "source_hash": "7fbc0858",
        "execution_millis": 0,
        "execution_start": 1618764226952,
        "deepnote_cell_type": "code"
      },
      "source": "for x in X:\n    if (x[1:] == 0).all():\n        print(x)",
      "execution_count": null,
      "outputs": []
    },
    {
      "cell_type": "code",
      "metadata": {
        "tags": [],
        "cell_id": "00023-a0768a2a-1db8-4786-ba04-922213196921",
        "deepnote_to_be_reexecuted": false,
        "source_hash": "619d9bfd",
        "execution_millis": 0,
        "execution_start": 1618764226969,
        "deepnote_cell_type": "code"
      },
      "source": "def predict_function_from_Q(Q):\n    def predict_function(vector):\n        if vector.ndim == 1:\n            state = transform_vector_to_state(vector)\n            card, hand = state\n            if len(hand) == 0:\n                return np.zeros(3*n_cards)\n            proba_hand = Q[state]\n            proba = np.zeros(3*n_cards)\n            idx_hand = [card -1 for card in hand]\n            proba[idx_hand] = proba_hand\n            return proba\n        else:\n            resu = np.array([predict_function(vec) for vec in vector])\n            return resu\n    return predict_function",
      "execution_count": null,
      "outputs": []
    },
    {
      "cell_type": "code",
      "metadata": {
        "tags": [],
        "cell_id": "00024-b40d8137-bcaf-43d2-a160-dca416a2ecf2",
        "deepnote_to_be_reexecuted": false,
        "source_hash": "15ced6e5",
        "execution_millis": 8,
        "execution_start": 1618764226970,
        "deepnote_cell_type": "code"
      },
      "source": "predictor = predict_function_from_Q(Q)\npredictor(vector.reshape(1,-1))",
      "execution_count": null,
      "outputs": [
        {
          "output_type": "execute_result",
          "execution_count": 24,
          "data": {
            "text/plain": "array([[ 0.        , -0.02564103,  0.05128205,  0.        ,  0.        ,\n        -0.02083333]])"
          },
          "metadata": {}
        }
      ]
    },
    {
      "cell_type": "code",
      "metadata": {
        "tags": [],
        "cell_id": "00024-96735757-95c5-45fb-a9e3-94d0bd90e47b",
        "deepnote_to_be_reexecuted": false,
        "source_hash": "319e7aa7",
        "execution_millis": 35,
        "execution_start": 1618764226970,
        "deepnote_cell_type": "code"
      },
      "source": "# TODO: modèle au lieu de prédire les valeurs prédit les proba\n# Explainer à terminer\noutput_names = list(range(1, 3*n_cards+1))\nfeature_names = [\"card\"] + output_names\nmodel = predict_function_from_Q(Q)\nexplainer = shap.KernelExplainer(model, X, output_names=output_names)",
      "execution_count": null,
      "outputs": [
        {
          "name": "stderr",
          "text": "Using 378 background data samples could cause slower run times. Consider using shap.sample(data, K) or shap.kmeans(data, K) to summarize the background as K samples.\n",
          "output_type": "stream"
        }
      ]
    },
    {
      "cell_type": "code",
      "metadata": {
        "tags": [],
        "cell_id": "00026-4ca64c01-ced3-47ca-8be3-62b84bf26e5e",
        "deepnote_to_be_reexecuted": false,
        "source_hash": "1759d05b",
        "execution_millis": 312109,
        "execution_start": 1618764226995,
        "deepnote_cell_type": "code"
      },
      "source": "shap_values = explainer.shap_values(X)",
      "execution_count": null,
      "outputs": [
        {
          "data": {
            "text/plain": "  0%|          | 0/378 [00:00<?, ?it/s]",
            "application/vnd.jupyter.widget-view+json": {
              "version_major": 2,
              "version_minor": 0,
              "model_id": "d0f632726c9c437eafc6a4de6248f6a3"
            }
          },
          "metadata": {},
          "output_type": "display_data"
        }
      ]
    },
    {
      "cell_type": "code",
      "metadata": {
        "tags": [],
        "cell_id": "00029-a452ef17-2e30-4959-bb39-a15c388e72b8",
        "deepnote_to_be_reexecuted": false,
        "source_hash": "1b3fca75",
        "execution_millis": 5,
        "execution_start": 1618764609250,
        "deepnote_cell_type": "code"
      },
      "source": "shap_values",
      "execution_count": null,
      "outputs": [
        {
          "output_type": "execute_result",
          "execution_count": 29,
          "data": {
            "text/plain": "[array([[-2.39224096e-02,  8.42053088e-03, -1.94998615e-02, ...,\n          1.34010263e-02, -2.56181906e-02, -2.88752977e-02],\n        [-4.68986705e-03, -2.61242467e-02,  1.43450498e-03, ...,\n          7.03250262e-03,  5.31811160e-05, -1.90525571e-03],\n        [ 9.39707709e-03,  2.53619458e-02,  1.83759198e-02, ...,\n          4.99083200e-02,  8.62845648e-03, -4.80463494e-03],\n        ...,\n        [-6.46547601e-02,  4.25836983e-03,  1.86130505e-03, ...,\n         -9.34356161e-04,  1.31234644e-02, -3.49550987e-02],\n        [-2.14091773e-02, -4.61968101e-03, -2.14245149e-03, ...,\n          2.70429126e-03, -2.39004931e-05, -1.62275684e-03],\n        [-5.96986808e-02,  4.61593381e-03, -1.78488751e-03, ...,\n          1.42333568e-02, -1.37663830e-03, -1.37273322e-02]]),\n array([[ 1.35109294e-04, -4.62613480e-03, -3.47546517e-03, ...,\n         -7.34734430e-03, -2.49680731e-03, -5.26973306e-04],\n        [-6.69709177e-04,  1.60099929e-02,  1.43306033e-02, ...,\n         -3.75211386e-02,  9.95212408e-03, -1.24463246e-02],\n        [ 1.32125872e-03, -1.54518285e-02,  3.50490957e-03, ...,\n         -2.83942598e-02, -2.14688912e-02,  3.63068084e-03],\n        ...,\n        [-2.11510362e-02, -1.34123755e-03,  1.81195159e-04, ...,\n          1.58795100e-03, -2.10184325e-04, -1.82841518e-04],\n        [-5.23053456e-02,  7.29086366e-03,  5.70063499e-03, ...,\n          2.42044950e-02,  1.04345232e-02, -7.01053246e-03],\n        [-6.63032086e-02, -7.13472701e-03, -9.28544698e-05, ...,\n         -9.27029542e-03, -5.41281355e-03, -4.96301165e-03]]),\n array([[ 0.02201687, -0.0005236 ,  0.00197848, ..., -0.0077344 ,\n          0.0037379 , -0.00281495],\n        [ 0.01841082, -0.00081501, -0.00331709, ..., -0.00651288,\n         -0.00230413,  0.00090759],\n        [ 0.02354872,  0.00081501, -0.00197848, ..., -0.01074734,\n          0.00679918, -0.00266357],\n        ...,\n        [-0.03961897,  0.01431154,  0.01219349, ..., -0.01488966,\n         -0.00512071,  0.00663839],\n        [-0.08772192, -0.01668442, -0.01401789, ...,  0.01394309,\n         -0.03702042, -0.02206234],\n        [-0.05415106,  0.01640764, -0.01192179, ..., -0.00814024,\n          0.03294332, -0.00688082]]),\n array([[ 0.0069503 , -0.00132816,  0.00330672, ..., -0.03634168,\n         -0.00495886,  0.00597479],\n        [ 0.00529723,  0.0019409 , -0.00269398, ..., -0.0254408 ,\n         -0.00081098, -0.00128076],\n        [ 0.00398524, -0.0019409 , -0.00330672, ..., -0.02735911,\n         -0.00085368,  0.00323972],\n        ...,\n        [ 0.00213914, -0.02080677,  0.01216921, ...,  0.02648749,\n          0.0145047 ,  0.00821648],\n        [ 0.00686292,  0.0068017 , -0.0260539 , ...,  0.02249003,\n         -0.00723783, -0.00914403],\n        [ 0.00431743, -0.00669498, -0.0119421 , ...,  0.01843941,\n         -0.01079161,  0.01119233]]),\n array([[ 5.81794739e-03, -2.61054204e-03,  2.45386858e-03, ...,\n         -1.45839936e-03, -2.14699271e-02, -4.33959761e-03],\n        [ 4.30263684e-03,  2.55921165e-03, -2.50519897e-03, ...,\n          1.74269233e-03, -2.71850313e-02,  7.25395784e-05],\n        [ 6.71575664e-03, -2.55921165e-03, -2.45386858e-03, ...,\n         -1.05930529e-03, -1.91781925e-02, -2.45166298e-03],\n        ...,\n        [ 3.29603179e-02,  5.77716538e-03,  2.64869778e-03, ...,\n          2.51431101e-02,  3.25638347e-02, -1.68536087e-03],\n        [ 5.61531590e-02,  1.63129946e-02,  1.91286539e-02, ...,\n          4.77192758e-02,  4.44541943e-02,  1.61592656e-02],\n        [ 4.40798895e-02, -1.60078824e-02, -2.65639391e-03, ...,\n          2.12368198e-02,  3.16548579e-02,  1.60404974e-03]]),\n array([[-8.42994789e-03, -4.42560996e-03, -2.77498530e-03, ...,\n          2.03114111e-06,  1.75803808e-03,  1.99505105e-03],\n        [-2.39117805e-03,  5.35284164e-03,  3.70221699e-03, ...,\n         -2.32674438e-03, -9.56888906e-04, -1.37531079e-02],\n        [ 3.52990577e-04, -5.35284164e-03,  2.77498530e-03, ...,\n         -3.93986767e-03, -4.96910500e-04, -3.78752316e-03],\n        ...,\n        [ 1.56887027e-01, -3.61698215e-02,  9.81702993e-03, ...,\n          2.10664729e-02,  5.08871619e-03,  6.68744426e-02],\n        [ 1.31225536e-01,  2.69336554e-03, -4.31800165e-02, ...,\n          3.55140886e-03,  1.02228720e-02,  5.87933039e-02],\n        [ 1.30295566e-01, -2.48866931e-03, -9.49886427e-03, ...,\n          2.83401968e-02, -8.43284649e-04,  5.92967749e-02]])]"
          },
          "metadata": {}
        }
      ]
    },
    {
      "cell_type": "code",
      "metadata": {
        "tags": [],
        "cell_id": "00030-1e89d720-4677-445c-ba90-2bff615e73cb",
        "deepnote_to_be_reexecuted": false,
        "source_hash": "e3f767ec",
        "execution_millis": 23,
        "execution_start": 1618765770848,
        "deepnote_cell_type": "code"
      },
      "source": "help(shap.dependence_plot)",
      "execution_count": null,
      "outputs": [
        {
          "name": "stdout",
          "text": "Help on function dependence_legacy in module shap.plots._scatter:\n\ndependence_legacy(ind, shap_values=None, features=None, feature_names=None, display_features=None, interaction_index='auto', color='#1E88E5', axis_color='#333333', cmap=None, dot_size=16, x_jitter=0, alpha=1, title=None, xmin=None, xmax=None, ax=None, show=True)\n    Create a SHAP dependence plot, colored by an interaction feature.\n    \n    Plots the value of the feature on the x-axis and the SHAP value of the same feature\n    on the y-axis. This shows how the model depends on the given feature, and is like a\n    richer extenstion of the classical parital dependence plots. Vertical dispersion of the\n    data points represents interaction effects. Grey ticks along the y-axis are data\n    points where the feature's value was NaN.\n    \n    \n    Parameters\n    ----------\n    ind : int or string\n        If this is an int it is the index of the feature to plot. If this is a string it is\n        either the name of the feature to plot, or it can have the form \"rank(int)\" to specify\n        the feature with that rank (ordered by mean absolute SHAP value over all the samples).\n    \n    shap_values : numpy.array\n        Matrix of SHAP values (# samples x # features).\n    \n    features : numpy.array or pandas.DataFrame\n        Matrix of feature values (# samples x # features).\n    \n    feature_names : list\n        Names of the features (length # features).\n    \n    display_features : numpy.array or pandas.DataFrame\n        Matrix of feature values for visual display (such as strings instead of coded values).\n    \n    interaction_index : \"auto\", None, int, or string\n        The index of the feature used to color the plot. The name of a feature can also be passed\n        as a string. If \"auto\" then shap.common.approximate_interactions is used to pick what\n        seems to be the strongest interaction (note that to find to true stongest interaction you\n        need to compute the SHAP interaction values).\n    \n    x_jitter : float (0 - 1)\n        Adds random jitter to feature values. May increase plot readability when feature\n        is discrete.\n    \n    alpha : float\n        The transparency of the data points (between 0 and 1). This can be useful to the\n        show density of the data points when using a large dataset.\n    \n    xmin : float or string\n        Represents the lower bound of the plot's x-axis. It can be a string of the format\n        \"percentile(float)\" to denote that percentile of the feature's value used on the x-axis.\n    \n    xmax : float or string\n        Represents the upper bound of the plot's x-axis. It can be a string of the format\n        \"percentile(float)\" to denote that percentile of the feature's value used on the x-axis.\n    \n    ax : matplotlib Axes object\n         Optionally specify an existing matplotlib Axes object, into which the plot will be placed.\n         In this case we do not create a Figure, otherwise we do.\n\n",
          "output_type": "stream"
        }
      ]
    },
    {
      "cell_type": "code",
      "metadata": {
        "tags": [],
        "cell_id": "00027-5f67ce88-df28-41c4-b47a-114411be09eb",
        "deepnote_to_be_reexecuted": false,
        "source_hash": "bdecd3d0",
        "execution_millis": 262,
        "execution_start": 1618766558565,
        "deepnote_cell_type": "code"
      },
      "source": "shap.dependence_plot(1,shap_values[0], X, feature_names=feature_names)",
      "execution_count": null,
      "outputs": [
        {
          "name": "stderr",
          "text": "Passing parameters norm and vmin/vmax simultaneously is deprecated since 3.3 and will become an error two minor releases later. Please pass vmin/vmax directly to the norm when creating it.\n",
          "output_type": "stream"
        },
        {
          "data": {
            "text/plain": "<Figure size 540x360 with 2 Axes>",
            "image/png": "[encoded data removed]"
          },
          "metadata": {
            "needs_background": "light"
          },
          "output_type": "display_data"
        }
      ]
    },
    {
      "cell_type": "code",
      "metadata": {
        "tags": [],
        "cell_id": "00031-409d8f61-76c1-45a8-8c31-19f1a3b3683f",
        "deepnote_cell_type": "code"
      },
      "source": "",
      "execution_count": null,
      "outputs": []
    },
    {
      "cell_type": "markdown",
      "source": "<a style='text-decoration:none;line-height:16px;display:flex;color:#5B5B62;padding:10px;justify-content:end;' href='https://deepnote.com?utm_source=created-in-deepnote-cell&projectId=c3570100-157e-4a3f-b5c9-ebc0870008b3' target=\"_blank\">\n<img alt='Created in deepnote.com' style='display:inline;max-height:16px;margin:0px;margin-right:7.5px;' src='data:image/svg+xml;base64,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' > </img>\nCreated in <span style='font-weight:600;margin-left:4px;'>Deepnote</span></a>",
      "metadata": {
        "tags": [],
        "created_in_deepnote_cell": true,
        "deepnote_cell_type": "markdown"
      }
    }
  ],
  "nbformat": 4,
  "nbformat_minor": 2,
  "metadata": {
    "orig_nbformat": 2,
    "deepnote": {
      "is_reactive": false
    },
    "deepnote_notebook_id": "04d64abb-6062-4e05-b09d-e33d29290336",
    "deepnote_execution_queue": []
  }
}